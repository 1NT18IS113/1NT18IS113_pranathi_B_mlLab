{
 "cells": [
  {
   "cell_type": "markdown",
   "metadata": {},
   "source": [
    "# Standardization and Normalization"
   ]
  },
  {
   "cell_type": "markdown",
   "metadata": {},
   "source": [
    "## Min-Max Normalization"
   ]
  },
  {
   "cell_type": "code",
   "execution_count": 5,
   "metadata": {},
   "outputs": [
    {
     "name": "stdout",
     "output_type": "stream",
     "text": [
      "Value : Normalized value\n",
      "\n",
      "115.3 : 0.23691722169362506\n",
      "195.5 : 1.0\n",
      "120.5 : 0.2863939105613701\n",
      "110.2 : 0.18839200761179828\n",
      "90.4 : 0.0\n",
      "105.6 : 0.14462416745956222\n",
      "110.9 : 0.1950523311132255\n",
      "116.3 : 0.24643196955280677\n",
      "122.3 : 0.3035204567078972\n",
      "125.4 : 0.3330161750713606\n"
     ]
    }
   ],
   "source": [
    "a = [115.3,195.5,120.5,110.2,90.4,105.6,110.9,116.3,122.3,125.4]\n",
    "xmin = min(a)\n",
    "xmax = max(a)\n",
    "print(\"Value : Normalized value\\n\")\n",
    "for x in a:\n",
    "    n = (x-xmin)/(xmax - xmin)\n",
    "    print(\"{} : {}\".format(x,n))"
   ]
  },
  {
   "cell_type": "markdown",
   "metadata": {},
   "source": [
    "## Standardization"
   ]
  },
  {
   "cell_type": "code",
   "execution_count": 8,
   "metadata": {},
   "outputs": [
    {
     "name": "stdout",
     "output_type": "stream",
     "text": [
      "Value : Standardized Value \n",
      "\n",
      "115.3 : -0.22422720478983732\n",
      "195.5 : 2.803217546749711\n",
      "120.5 : -0.02793402887954231\n",
      "110.2 : -0.4167455119326263\n",
      "90.4 : -1.164169527898749\n",
      "105.6 : -0.5903894752378875\n",
      "110.9 : -0.3903214305600865\n",
      "116.3 : -0.18647851711478058\n",
      "122.3 : 0.040013608935559664\n",
      "125.4 : 0.15703454072823578\n"
     ]
    }
   ],
   "source": [
    "import math\n",
    "temp_sum = 0\n",
    "a = [115.3,195.5,120.5,110.2,90.4,105.6,110.9,116.3,122.3,125.4]\n",
    "\n",
    "#Calculate mean\n",
    "mean = sum(a) / len(a)\n",
    "\n",
    "#Calculate standard deviation\n",
    "for i in a:\n",
    "    temp_sum = temp_sum + ((i-mean)**2)\n",
    "sd = math.sqrt((temp_sum / (len(a) )))\n",
    "\n",
    "#Calculate standardization\n",
    "print(\"Value : Standardized Value \\n\")\n",
    "for i in a:\n",
    "    s = (i-mean)/sd\n",
    "    print(\"{} : {}\".format(i,s))"
   ]
  },
  {
   "cell_type": "code",
   "execution_count": 12,
   "metadata": {},
   "outputs": [
    {
     "name": "stdout",
     "output_type": "stream",
     "text": [
      "[-0.2242272   2.80321755 -0.02793403 -0.41674551 -1.16416953 -0.59038948\n",
      " -0.39032143 -0.18647852  0.04001361  0.15703454]\n"
     ]
    }
   ],
   "source": [
    "from sklearn import preprocessing \n",
    "print(preprocessing.scale(a))"
   ]
  },
  {
   "cell_type": "markdown",
   "metadata": {},
   "source": [
    "# K-means clustering"
   ]
  },
  {
   "cell_type": "code",
   "execution_count": 117,
   "metadata": {},
   "outputs": [
    {
     "name": "stdout",
     "output_type": "stream",
     "text": [
      "cluster1 [[5.9, 3.2], [4.6, 2.9], [4.7, 3.2], [5.0, 3.0], [4.9, 3.1], [5.1, 3.8], [6.0, 3.0]]\n",
      "cluster2 [[5.5, 4.2]]\n",
      "cluster3 [[6.2, 2.8], [6.7, 3.1]]\n"
     ]
    }
   ],
   "source": [
    "import math\n",
    "cluster1 = []\n",
    "cluster2 = []\n",
    "cluster3 = []\n",
    "x1,y1 = 6.2,3.2\n",
    "x2,y2 = 6.6,3.7\n",
    "x3,y3 = 6.5,3.0\n",
    "points = [[5.9,3.2],\n",
    "           [4.6,2.9],\n",
    "           [6.2,2.8],\n",
    "           [4.7,3.2],\n",
    "           [5.5,4.2],\n",
    "           [5.0,3.0],\n",
    "           [4.9,3.1],\n",
    "           [6.7,3.1],\n",
    "           [5.1,3.8],\n",
    "           [6.0,3.0]]\n",
    "\n",
    "def eucledian_distance(a,b):\n",
    "    dis1 = math.sqrt((a-x1)**2 + (b-y1)**2)\n",
    "    dis2 = math.sqrt((a-x2)**2 + (b-y2)**2)\n",
    "    dis3 = math.sqrt((a-x3)**2 + (b-y3)**2)\n",
    "    mind = min(dis1,dis2,dis3)\n",
    "    if(mind == dis1):\n",
    "        cluster1.append([a,b])\n",
    "    elif(mind==dis2):\n",
    "        cluster2.append([a,b])\n",
    "    else:\n",
    "        cluster3.append([a,b])\n",
    "\n",
    "for i,j in points:\n",
    "    eucledian_distance(i,j)\n",
    "print(\"cluster1\",cluster1)\n",
    "print(\"cluster2\",cluster2)\n",
    "print(\"cluster3\",cluster3)"
   ]
  },
  {
   "cell_type": "markdown",
   "metadata": {},
   "source": [
    "### Cluster1 Iteration"
   ]
  },
  {
   "cell_type": "code",
   "execution_count": 118,
   "metadata": {},
   "outputs": [
    {
     "name": "stdout",
     "output_type": "stream",
     "text": [
      "[[5.9, 3.2], [4.6, 2.9], [4.7, 3.2], [5.0, 3.0], [4.9, 3.1], [5.1, 3.8], [6.0, 3.0]]\n",
      "New centroid for cluster1  x= 5.171428571428572\n",
      "New centroid for cluster1  y= 3.1714285714285713\n"
     ]
    }
   ],
   "source": [
    "#1st iteration for cluster1\n",
    "print(cluster1)\n",
    "sumi = 0\n",
    "sumj = 0\n",
    "for i,j in cluster1:\n",
    "    sumi = sumi + i\n",
    "    sumj = sumj + j\n",
    "nx1 = (sumi/len(cluster1))\n",
    "ny1 = (sumj/len(cluster1))\n",
    "print(\"New centroid for cluster1  x=\",nx1)\n",
    "print(\"New centroid for cluster1  y=\",ny1)"
   ]
  },
  {
   "cell_type": "code",
   "execution_count": 119,
   "metadata": {},
   "outputs": [
    {
     "name": "stdout",
     "output_type": "stream",
     "text": [
      "[[5.9, 3.2], [4.6, 2.9], [4.7, 3.2], [5.0, 3.0], [4.9, 3.1], [5.1, 3.8], [6.0, 3.0]]\n",
      "cluster1  [[5.9, 3.2], [4.6, 2.9], [4.7, 3.2], [5.0, 3.0], [4.9, 3.1], [5.1, 3.8], [6.0, 3.0]]\n",
      "cluster4 [[4.6, 2.9], [4.7, 3.2], [5.0, 3.0], [4.9, 3.1], [5.1, 3.8]]\n"
     ]
    }
   ],
   "source": [
    "print(cluster1)\n",
    "cluster4 = []\n",
    "def new_eucledian_distance(a,b):\n",
    "    ndis1 = math.sqrt((a-nx1)**2 + (b-ny1)**2)\n",
    "    if(ndis1 < math.sqrt((a-x1)**2 + (b-y1)**2)):\n",
    "        cluster4.append([a,b])\n",
    "        \n",
    "    else:\n",
    "        pass\n",
    "for i,j in cluster1:\n",
    "    new_eucledian_distance(i,j)\n",
    "\n",
    "print(\"cluster1 \",cluster1)\n",
    "print(\"cluster4\",cluster4)"
   ]
  },
  {
   "cell_type": "code",
   "execution_count": 120,
   "metadata": {},
   "outputs": [
    {
     "name": "stdout",
     "output_type": "stream",
     "text": [
      "[[4.6, 2.9], [4.7, 3.2], [5.0, 3.0], [4.9, 3.1], [5.1, 3.8]]\n",
      "New centroid for cluster1  x= 4.860000000000001\n",
      "New centroid for cluster1  y= 3.2\n"
     ]
    }
   ],
   "source": [
    "#2nd iteration for cluster1\n",
    "print(cluster4)\n",
    "sumi = 0\n",
    "sumj = 0\n",
    "for i,j in cluster4:\n",
    "    sumi = sumi + i\n",
    "    sumj = sumj + j\n",
    "nx1 = (sumi/len(cluster4))\n",
    "ny1 = (sumj/len(cluster4))\n",
    "print(\"New centroid for cluster1  x=\",nx1)\n",
    "print(\"New centroid for cluster1  y=\",ny1)"
   ]
  },
  {
   "cell_type": "code",
   "execution_count": 121,
   "metadata": {},
   "outputs": [
    {
     "name": "stdout",
     "output_type": "stream",
     "text": [
      "[[4.6, 2.9], [4.7, 3.2], [5.0, 3.0], [4.9, 3.1], [5.1, 3.8]]\n",
      "cluster7  [[4.6, 2.9], [4.7, 3.2], [5.0, 3.0], [4.9, 3.1], [5.1, 3.8]]\n",
      "cluster4 [[4.6, 2.9], [4.7, 3.2], [5.0, 3.0], [4.9, 3.1], [5.1, 3.8]]\n"
     ]
    }
   ],
   "source": [
    "print(cluster4)\n",
    "cluster7 = []\n",
    "def new_eucledian_distance_1(a,b):\n",
    "    ndis1 = math.sqrt((a-nx1)**2 + (b-ny1)**2)\n",
    "    if(ndis1 < math.sqrt((a-x1)**2 + (b-y1)**2)):\n",
    "        cluster7.append([a,b])\n",
    "        \n",
    "    else:\n",
    "        pass\n",
    "for i,j in cluster4:\n",
    "    new_eucledian_distance_1(i,j)\n",
    "\n",
    "print(\"cluster7 \",cluster7)\n",
    "print(\"cluster4\",cluster4)"
   ]
  },
  {
   "cell_type": "code",
   "execution_count": 122,
   "metadata": {},
   "outputs": [
    {
     "name": "stdout",
     "output_type": "stream",
     "text": [
      "[[4.6, 2.9], [4.7, 3.2], [5.0, 3.0], [4.9, 3.1], [5.1, 3.8]]\n",
      "New centroid for cluster1  x= 4.860000000000001\n",
      "New centroid for cluster1  y= 3.2\n"
     ]
    }
   ],
   "source": [
    "#3rd iteration for cluster1\n",
    "print(cluster7)\n",
    "sumi = 0\n",
    "sumj = 0\n",
    "for i,j in cluster7:\n",
    "    sumi = sumi + i\n",
    "    sumj = sumj + j\n",
    "nx1 = (sumi/len(cluster4))\n",
    "ny1 = (sumj/len(cluster4))\n",
    "print(\"New centroid for cluster1  x=\",nx1)\n",
    "print(\"New centroid for cluster1  y=\",ny1)"
   ]
  },
  {
   "cell_type": "markdown",
   "metadata": {},
   "source": [
    "### Cluster 3 Iteration"
   ]
  },
  {
   "cell_type": "code",
   "execution_count": 123,
   "metadata": {},
   "outputs": [
    {
     "name": "stdout",
     "output_type": "stream",
     "text": [
      "[[6.2, 2.8], [6.7, 3.1]]\n",
      "New centroid for cluster3  x= 6.45\n",
      "New centroid for cluster3  y= 2.95\n"
     ]
    }
   ],
   "source": [
    "#1st iteration for cluster3\n",
    "print(cluster3)\n",
    "sumi = 0\n",
    "sumj = 0\n",
    "for i,j in cluster3:\n",
    "    sumi = sumi + i\n",
    "    sumj = sumj + j\n",
    "nx2 = round(sumi/len(cluster3),2)\n",
    "ny2 = round(sumj/len(cluster3),2)\n",
    "print(\"New centroid for cluster3  x=\",nx2)\n",
    "print(\"New centroid for cluster3  y=\",ny2)"
   ]
  },
  {
   "cell_type": "code",
   "execution_count": 127,
   "metadata": {},
   "outputs": [
    {
     "name": "stdout",
     "output_type": "stream",
     "text": [
      "[[6.2, 2.8], [6.7, 3.1]]\n",
      "cluster3  [[6.2, 2.8], [6.7, 3.1]]\n",
      "cluster5 [[6.2, 2.8]]\n"
     ]
    }
   ],
   "source": [
    "print(cluster3)\n",
    "cluster5 = []\n",
    "def new_eucledian_distance_2(a,b):\n",
    "    ndis2 = math.sqrt((a-nx2)**2 + (b-ny2)**2)\n",
    "    if(ndis2 < math.sqrt((a-x3)**2 + (b-y3)**2)):\n",
    "        cluster5.append([a,b])\n",
    "    else:\n",
    "        pass\n",
    "\n",
    "for i,j in cluster3:\n",
    "    new_eucledian_distance_2(i,j)\n",
    "\n",
    "print(\"cluster3 \",cluster3)\n",
    "print(\"cluster5\",cluster5)"
   ]
  },
  {
   "cell_type": "code",
   "execution_count": 128,
   "metadata": {},
   "outputs": [
    {
     "name": "stdout",
     "output_type": "stream",
     "text": [
      "[[6.2, 2.8], [6.7, 3.1]]\n",
      "New centroid for cluster3  x= 6.45\n",
      "New centroid for cluster3  y= 2.95\n"
     ]
    }
   ],
   "source": [
    "#2nd iteration for cluster3\n",
    "print(cluster3)\n",
    "sumi = 0\n",
    "sumj = 0\n",
    "for i,j in cluster3:\n",
    "    sumi = sumi + i\n",
    "    sumj = sumj + j\n",
    "nx2 = round(sumi/len(cluster3),2)\n",
    "ny2 = round(sumj/len(cluster3),2)\n",
    "print(\"New centroid for cluster3  x=\",nx2)\n",
    "print(\"New centroid for cluster3  y=\",ny2)"
   ]
  },
  {
   "cell_type": "code",
   "execution_count": null,
   "metadata": {},
   "outputs": [],
   "source": []
  }
 ],
 "metadata": {
  "kernelspec": {
   "display_name": "Python 3",
   "language": "python",
   "name": "python3"
  },
  "language_info": {
   "codemirror_mode": {
    "name": "ipython",
    "version": 3
   },
   "file_extension": ".py",
   "mimetype": "text/x-python",
   "name": "python",
   "nbconvert_exporter": "python",
   "pygments_lexer": "ipython3",
   "version": "3.8.10"
  }
 },
 "nbformat": 4,
 "nbformat_minor": 4
}
